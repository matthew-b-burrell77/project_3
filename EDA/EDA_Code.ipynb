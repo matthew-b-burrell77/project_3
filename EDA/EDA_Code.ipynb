{
 "cells": [
  {
   "cell_type": "code",
   "execution_count": 1,
   "metadata": {},
   "outputs": [],
   "source": [
    "#imports \n",
    "import pandas as pd\n",
    "import numpy as np\n",
    "import seaborn as sns\n",
    "import re\n",
    "import matplotlib.pyplot as plt\n",
    "from sklearn.feature_extraction.text import CountVectorizer, TfidfVectorizer\n",
    "from nltk.corpus import stopwords"
   ]
  },
  {
   "cell_type": "code",
   "execution_count": 2,
   "metadata": {},
   "outputs": [],
   "source": [
    "#Loading Data for Dodgers\n",
    "df_dodgers = pd.read_csv('../data/dodgerposts.csv')"
   ]
  },
  {
   "cell_type": "code",
   "execution_count": 3,
   "metadata": {},
   "outputs": [
    {
     "data": {
      "text/html": [
       "<div>\n",
       "<style scoped>\n",
       "    .dataframe tbody tr th:only-of-type {\n",
       "        vertical-align: middle;\n",
       "    }\n",
       "\n",
       "    .dataframe tbody tr th {\n",
       "        vertical-align: top;\n",
       "    }\n",
       "\n",
       "    .dataframe thead th {\n",
       "        text-align: right;\n",
       "    }\n",
       "</style>\n",
       "<table border=\"1\" class=\"dataframe\">\n",
       "  <thead>\n",
       "    <tr style=\"text-align: right;\">\n",
       "      <th></th>\n",
       "      <th>created_utc</th>\n",
       "      <th>title</th>\n",
       "      <th>selftext</th>\n",
       "      <th>domain</th>\n",
       "      <th>id</th>\n",
       "      <th>num_comments</th>\n",
       "      <th>pinned</th>\n",
       "      <th>subreddit</th>\n",
       "    </tr>\n",
       "  </thead>\n",
       "  <tbody>\n",
       "    <tr>\n",
       "      <th>0</th>\n",
       "      <td>1595390695</td>\n",
       "      <td>[Friedman] Brusdar Graterol throwing 99mph, wh...</td>\n",
       "      <td>NaN</td>\n",
       "      <td>twitter.com</td>\n",
       "      <td>hvmt8e</td>\n",
       "      <td>8</td>\n",
       "      <td>False</td>\n",
       "      <td>Dodgers</td>\n",
       "    </tr>\n",
       "    <tr>\n",
       "      <th>1</th>\n",
       "      <td>1595390240</td>\n",
       "      <td>A mere taste of what's to come...</td>\n",
       "      <td>NaN</td>\n",
       "      <td>v.redd.it</td>\n",
       "      <td>hvmpab</td>\n",
       "      <td>3</td>\n",
       "      <td>False</td>\n",
       "      <td>Dodgers</td>\n",
       "    </tr>\n",
       "    <tr>\n",
       "      <th>2</th>\n",
       "      <td>1595388647</td>\n",
       "      <td>Dodgers telecast</td>\n",
       "      <td>[removed]</td>\n",
       "      <td>self.Dodgers</td>\n",
       "      <td>hvmbaw</td>\n",
       "      <td>1</td>\n",
       "      <td>False</td>\n",
       "      <td>Dodgers</td>\n",
       "    </tr>\n",
       "    <tr>\n",
       "      <th>3</th>\n",
       "      <td>1595388578</td>\n",
       "      <td>Commercials</td>\n",
       "      <td>[removed]</td>\n",
       "      <td>self.Dodgers</td>\n",
       "      <td>hvmaok</td>\n",
       "      <td>1</td>\n",
       "      <td>False</td>\n",
       "      <td>Dodgers</td>\n",
       "    </tr>\n",
       "    <tr>\n",
       "      <th>4</th>\n",
       "      <td>1595388542</td>\n",
       "      <td>No real shortage of Dodgers in this roundtable...</td>\n",
       "      <td>NaN</td>\n",
       "      <td>thescorecrow.com</td>\n",
       "      <td>hvmacu</td>\n",
       "      <td>1</td>\n",
       "      <td>False</td>\n",
       "      <td>Dodgers</td>\n",
       "    </tr>\n",
       "    <tr>\n",
       "      <th>...</th>\n",
       "      <td>...</td>\n",
       "      <td>...</td>\n",
       "      <td>...</td>\n",
       "      <td>...</td>\n",
       "      <td>...</td>\n",
       "      <td>...</td>\n",
       "      <td>...</td>\n",
       "      <td>...</td>\n",
       "    </tr>\n",
       "    <tr>\n",
       "      <th>21944</th>\n",
       "      <td>1526056401</td>\n",
       "      <td>There are just 4 teams under .500 in the NL.</td>\n",
       "      <td>The Marlins, Padres, Red, and Dodgers. This te...</td>\n",
       "      <td>self.Dodgers</td>\n",
       "      <td>8ip4ma</td>\n",
       "      <td>32</td>\n",
       "      <td>False</td>\n",
       "      <td>Dodgers</td>\n",
       "    </tr>\n",
       "    <tr>\n",
       "      <th>21945</th>\n",
       "      <td>1526050859</td>\n",
       "      <td>GDT 5/11 - Feeling Blue</td>\n",
       "      <td>Is Matt Harvey going for the Reds tonight? Thi...</td>\n",
       "      <td>self.Dodgers</td>\n",
       "      <td>8ioeva</td>\n",
       "      <td>46</td>\n",
       "      <td>False</td>\n",
       "      <td>Dodgers</td>\n",
       "    </tr>\n",
       "    <tr>\n",
       "      <th>21946</th>\n",
       "      <td>1526041642</td>\n",
       "      <td>When did things change?</td>\n",
       "      <td>I’m hearing a lot of reasoning/excuses about t...</td>\n",
       "      <td>self.Dodgers</td>\n",
       "      <td>8inc61</td>\n",
       "      <td>10</td>\n",
       "      <td>False</td>\n",
       "      <td>Dodgers</td>\n",
       "    </tr>\n",
       "    <tr>\n",
       "      <th>21947</th>\n",
       "      <td>1526026126</td>\n",
       "      <td>Hello Friends. We're crossing off Dodger Stadi...</td>\n",
       "      <td>Hey Baseball fans!\\n\\nMy wife and I, along wit...</td>\n",
       "      <td>self.Dodgers</td>\n",
       "      <td>8im3q9</td>\n",
       "      <td>23</td>\n",
       "      <td>False</td>\n",
       "      <td>Dodgers</td>\n",
       "    </tr>\n",
       "    <tr>\n",
       "      <th>21948</th>\n",
       "      <td>1526022124</td>\n",
       "      <td>I wrote this on the Dodgers.. and I still cann...</td>\n",
       "      <td>NaN</td>\n",
       "      <td>dodgersnation.com</td>\n",
       "      <td>8iltno</td>\n",
       "      <td>14</td>\n",
       "      <td>False</td>\n",
       "      <td>Dodgers</td>\n",
       "    </tr>\n",
       "  </tbody>\n",
       "</table>\n",
       "<p>21949 rows × 8 columns</p>\n",
       "</div>"
      ],
      "text/plain": [
       "       created_utc                                              title  \\\n",
       "0       1595390695  [Friedman] Brusdar Graterol throwing 99mph, wh...   \n",
       "1       1595390240                  A mere taste of what's to come...   \n",
       "2       1595388647                                   Dodgers telecast   \n",
       "3       1595388578                                        Commercials   \n",
       "4       1595388542  No real shortage of Dodgers in this roundtable...   \n",
       "...            ...                                                ...   \n",
       "21944   1526056401       There are just 4 teams under .500 in the NL.   \n",
       "21945   1526050859                            GDT 5/11 - Feeling Blue   \n",
       "21946   1526041642                            When did things change?   \n",
       "21947   1526026126  Hello Friends. We're crossing off Dodger Stadi...   \n",
       "21948   1526022124  I wrote this on the Dodgers.. and I still cann...   \n",
       "\n",
       "                                                selftext             domain  \\\n",
       "0                                                    NaN        twitter.com   \n",
       "1                                                    NaN          v.redd.it   \n",
       "2                                              [removed]       self.Dodgers   \n",
       "3                                              [removed]       self.Dodgers   \n",
       "4                                                    NaN   thescorecrow.com   \n",
       "...                                                  ...                ...   \n",
       "21944  The Marlins, Padres, Red, and Dodgers. This te...       self.Dodgers   \n",
       "21945  Is Matt Harvey going for the Reds tonight? Thi...       self.Dodgers   \n",
       "21946  I’m hearing a lot of reasoning/excuses about t...       self.Dodgers   \n",
       "21947  Hey Baseball fans!\\n\\nMy wife and I, along wit...       self.Dodgers   \n",
       "21948                                                NaN  dodgersnation.com   \n",
       "\n",
       "           id  num_comments  pinned subreddit  \n",
       "0      hvmt8e             8   False   Dodgers  \n",
       "1      hvmpab             3   False   Dodgers  \n",
       "2      hvmbaw             1   False   Dodgers  \n",
       "3      hvmaok             1   False   Dodgers  \n",
       "4      hvmacu             1   False   Dodgers  \n",
       "...       ...           ...     ...       ...  \n",
       "21944  8ip4ma            32   False   Dodgers  \n",
       "21945  8ioeva            46   False   Dodgers  \n",
       "21946  8inc61            10   False   Dodgers  \n",
       "21947  8im3q9            23   False   Dodgers  \n",
       "21948  8iltno            14   False   Dodgers  \n",
       "\n",
       "[21949 rows x 8 columns]"
      ]
     },
     "execution_count": 3,
     "metadata": {},
     "output_type": "execute_result"
    }
   ],
   "source": [
    "df_dodgers"
   ]
  },
  {
   "cell_type": "code",
   "execution_count": 4,
   "metadata": {},
   "outputs": [],
   "source": [
    "#Loading Data for Yankees\n",
    "df_yankees = pd.read_csv('../data/yankeeposts.csv')"
   ]
  },
  {
   "cell_type": "code",
   "execution_count": 5,
   "metadata": {},
   "outputs": [
    {
     "data": {
      "text/html": [
       "<div>\n",
       "<style scoped>\n",
       "    .dataframe tbody tr th:only-of-type {\n",
       "        vertical-align: middle;\n",
       "    }\n",
       "\n",
       "    .dataframe tbody tr th {\n",
       "        vertical-align: top;\n",
       "    }\n",
       "\n",
       "    .dataframe thead th {\n",
       "        text-align: right;\n",
       "    }\n",
       "</style>\n",
       "<table border=\"1\" class=\"dataframe\">\n",
       "  <thead>\n",
       "    <tr style=\"text-align: right;\">\n",
       "      <th></th>\n",
       "      <th>created_utc</th>\n",
       "      <th>title</th>\n",
       "      <th>selftext</th>\n",
       "      <th>domain</th>\n",
       "      <th>id</th>\n",
       "      <th>num_comments</th>\n",
       "      <th>pinned</th>\n",
       "      <th>subreddit</th>\n",
       "    </tr>\n",
       "  </thead>\n",
       "  <tbody>\n",
       "    <tr>\n",
       "      <th>0</th>\n",
       "      <td>1595392591</td>\n",
       "      <td>Hey There, Masa.</td>\n",
       "      <td>NaN</td>\n",
       "      <td>twitter.com</td>\n",
       "      <td>hvn962</td>\n",
       "      <td>1</td>\n",
       "      <td>False</td>\n",
       "      <td>NYYankees</td>\n",
       "    </tr>\n",
       "    <tr>\n",
       "      <th>1</th>\n",
       "      <td>1595392530</td>\n",
       "      <td>Hey There, Masa</td>\n",
       "      <td>[deleted]</td>\n",
       "      <td>twitter.com</td>\n",
       "      <td>hvn8n3</td>\n",
       "      <td>0</td>\n",
       "      <td>False</td>\n",
       "      <td>NYYankees</td>\n",
       "    </tr>\n",
       "    <tr>\n",
       "      <th>2</th>\n",
       "      <td>1595390377</td>\n",
       "      <td>1 more day until opening night!!!</td>\n",
       "      <td>NaN</td>\n",
       "      <td>imgur.com</td>\n",
       "      <td>hvmqfi</td>\n",
       "      <td>2</td>\n",
       "      <td>False</td>\n",
       "      <td>NYYankees</td>\n",
       "    </tr>\n",
       "    <tr>\n",
       "      <th>3</th>\n",
       "      <td>1595388694</td>\n",
       "      <td>Yankees clock in a few times in these predicti...</td>\n",
       "      <td>NaN</td>\n",
       "      <td>thescorecrow.com</td>\n",
       "      <td>hvmbqh</td>\n",
       "      <td>0</td>\n",
       "      <td>False</td>\n",
       "      <td>NYYankees</td>\n",
       "    </tr>\n",
       "    <tr>\n",
       "      <th>4</th>\n",
       "      <td>1595386393</td>\n",
       "      <td>Tanaka on Instagram</td>\n",
       "      <td>NaN</td>\n",
       "      <td>i.redd.it</td>\n",
       "      <td>hvlqw4</td>\n",
       "      <td>6</td>\n",
       "      <td>False</td>\n",
       "      <td>NYYankees</td>\n",
       "    </tr>\n",
       "    <tr>\n",
       "      <th>...</th>\n",
       "      <td>...</td>\n",
       "      <td>...</td>\n",
       "      <td>...</td>\n",
       "      <td>...</td>\n",
       "      <td>...</td>\n",
       "      <td>...</td>\n",
       "      <td>...</td>\n",
       "      <td>...</td>\n",
       "    </tr>\n",
       "    <tr>\n",
       "      <th>6195</th>\n",
       "      <td>1578456870</td>\n",
       "      <td>Getting a white iPhone 11 in a few days. Any a...</td>\n",
       "      <td>NaN</td>\n",
       "      <td>self.NYYankees</td>\n",
       "      <td>elnhm4</td>\n",
       "      <td>4</td>\n",
       "      <td>False</td>\n",
       "      <td>NYYankees</td>\n",
       "    </tr>\n",
       "    <tr>\n",
       "      <th>6196</th>\n",
       "      <td>1578454730</td>\n",
       "      <td>Found this in an old box with a bunch of sheet...</td>\n",
       "      <td>NaN</td>\n",
       "      <td>i.redd.it</td>\n",
       "      <td>eln1cc</td>\n",
       "      <td>1</td>\n",
       "      <td>False</td>\n",
       "      <td>NYYankees</td>\n",
       "    </tr>\n",
       "    <tr>\n",
       "      <th>6197</th>\n",
       "      <td>1578454295</td>\n",
       "      <td>A song I wrote when I was 12 - Beat the Mets</td>\n",
       "      <td>Beat the Mets\\n\\nBeat the Mets\\n\\nStep right u...</td>\n",
       "      <td>self.NYYankees</td>\n",
       "      <td>elmy1e</td>\n",
       "      <td>7</td>\n",
       "      <td>False</td>\n",
       "      <td>NYYankees</td>\n",
       "    </tr>\n",
       "    <tr>\n",
       "      <th>6198</th>\n",
       "      <td>1578452538</td>\n",
       "      <td>Cashman’s Genius: Departure from Steinbrenner ...</td>\n",
       "      <td>NaN</td>\n",
       "      <td>pitcherlist.com</td>\n",
       "      <td>elmkg1</td>\n",
       "      <td>1</td>\n",
       "      <td>False</td>\n",
       "      <td>NYYankees</td>\n",
       "    </tr>\n",
       "    <tr>\n",
       "      <th>6199</th>\n",
       "      <td>1578447694</td>\n",
       "      <td>Question for people with an Athletic subscription</td>\n",
       "      <td>I have seen multiple people accuse the Yanks o...</td>\n",
       "      <td>self.NYYankees</td>\n",
       "      <td>elljg9</td>\n",
       "      <td>11</td>\n",
       "      <td>False</td>\n",
       "      <td>NYYankees</td>\n",
       "    </tr>\n",
       "  </tbody>\n",
       "</table>\n",
       "<p>6200 rows × 8 columns</p>\n",
       "</div>"
      ],
      "text/plain": [
       "      created_utc                                              title  \\\n",
       "0      1595392591                                   Hey There, Masa.   \n",
       "1      1595392530                                    Hey There, Masa   \n",
       "2      1595390377                  1 more day until opening night!!!   \n",
       "3      1595388694  Yankees clock in a few times in these predicti...   \n",
       "4      1595386393                                Tanaka on Instagram   \n",
       "...           ...                                                ...   \n",
       "6195   1578456870  Getting a white iPhone 11 in a few days. Any a...   \n",
       "6196   1578454730  Found this in an old box with a bunch of sheet...   \n",
       "6197   1578454295       A song I wrote when I was 12 - Beat the Mets   \n",
       "6198   1578452538  Cashman’s Genius: Departure from Steinbrenner ...   \n",
       "6199   1578447694  Question for people with an Athletic subscription   \n",
       "\n",
       "                                               selftext            domain  \\\n",
       "0                                                   NaN       twitter.com   \n",
       "1                                             [deleted]       twitter.com   \n",
       "2                                                   NaN         imgur.com   \n",
       "3                                                   NaN  thescorecrow.com   \n",
       "4                                                   NaN         i.redd.it   \n",
       "...                                                 ...               ...   \n",
       "6195                                                NaN    self.NYYankees   \n",
       "6196                                                NaN         i.redd.it   \n",
       "6197  Beat the Mets\\n\\nBeat the Mets\\n\\nStep right u...    self.NYYankees   \n",
       "6198                                                NaN   pitcherlist.com   \n",
       "6199  I have seen multiple people accuse the Yanks o...    self.NYYankees   \n",
       "\n",
       "          id  num_comments  pinned  subreddit  \n",
       "0     hvn962             1   False  NYYankees  \n",
       "1     hvn8n3             0   False  NYYankees  \n",
       "2     hvmqfi             2   False  NYYankees  \n",
       "3     hvmbqh             0   False  NYYankees  \n",
       "4     hvlqw4             6   False  NYYankees  \n",
       "...      ...           ...     ...        ...  \n",
       "6195  elnhm4             4   False  NYYankees  \n",
       "6196  eln1cc             1   False  NYYankees  \n",
       "6197  elmy1e             7   False  NYYankees  \n",
       "6198  elmkg1             1   False  NYYankees  \n",
       "6199  elljg9            11   False  NYYankees  \n",
       "\n",
       "[6200 rows x 8 columns]"
      ]
     },
     "execution_count": 5,
     "metadata": {},
     "output_type": "execute_result"
    }
   ],
   "source": [
    "df_yankees"
   ]
  },
  {
   "cell_type": "code",
   "execution_count": 6,
   "metadata": {},
   "outputs": [],
   "source": [
    "df = pd.concat([df_yankees, df_dodgers], ignore_index=True)"
   ]
  },
  {
   "cell_type": "code",
   "execution_count": 7,
   "metadata": {},
   "outputs": [
    {
     "data": {
      "text/plain": [
       "(28149, 8)"
      ]
     },
     "execution_count": 7,
     "metadata": {},
     "output_type": "execute_result"
    }
   ],
   "source": [
    "df.shape"
   ]
  },
  {
   "cell_type": "markdown",
   "metadata": {},
   "source": [
    "# Missing Selftext Data\n",
    "\n",
    "Selftext entry feild has a lot of missing data becuase a lot of the post are just media like a video or image. I replace all the missing data with an empty string. Then, I combined the text data from the title and selftext to create  a total text. "
   ]
  },
  {
   "cell_type": "code",
   "execution_count": 8,
   "metadata": {},
   "outputs": [
    {
     "data": {
      "text/plain": [
       "created_utc         0\n",
       "title               0\n",
       "selftext        18039\n",
       "domain              4\n",
       "id                  0\n",
       "num_comments        0\n",
       "pinned              0\n",
       "subreddit           0\n",
       "dtype: int64"
      ]
     },
     "execution_count": 8,
     "metadata": {},
     "output_type": "execute_result"
    }
   ],
   "source": [
    "df.isnull().sum()"
   ]
  },
  {
   "cell_type": "code",
   "execution_count": 9,
   "metadata": {},
   "outputs": [],
   "source": [
    "df['selftext'] = df['selftext'].fillna('')"
   ]
  },
  {
   "cell_type": "code",
   "execution_count": 10,
   "metadata": {},
   "outputs": [],
   "source": [
    "df['total_text'] = df['title'] + ' ' + df['selftext']"
   ]
  },
  {
   "cell_type": "markdown",
   "metadata": {},
   "source": [
    "# Missing Domain Data\n",
    "\n",
    "The Domain is not need for the model. I will drop the how column from the dataset. "
   ]
  },
  {
   "cell_type": "code",
   "execution_count": 11,
   "metadata": {},
   "outputs": [
    {
     "data": {
      "text/plain": [
       "created_utc     0\n",
       "title           0\n",
       "selftext        0\n",
       "domain          4\n",
       "id              0\n",
       "num_comments    0\n",
       "pinned          0\n",
       "subreddit       0\n",
       "total_text      0\n",
       "dtype: int64"
      ]
     },
     "execution_count": 11,
     "metadata": {},
     "output_type": "execute_result"
    }
   ],
   "source": [
    "df.isnull().sum()"
   ]
  },
  {
   "cell_type": "code",
   "execution_count": 12,
   "metadata": {},
   "outputs": [],
   "source": [
    "df.drop(columns=['domain'], inplace=True)"
   ]
  },
  {
   "cell_type": "markdown",
   "metadata": {},
   "source": [
    "# Length and word count \n",
    "\n",
    "I am going to plot the distrubutions of the length of the title, selftext, and total text to see if there is any outliers or any issues with the data. "
   ]
  },
  {
   "cell_type": "code",
   "execution_count": 13,
   "metadata": {},
   "outputs": [],
   "source": [
    "#Getting length of title\n",
    "for i in range(len(df)):\n",
    "    df.loc[i,'title_length'] = len(df.iloc[i,1])"
   ]
  },
  {
   "cell_type": "code",
   "execution_count": 14,
   "metadata": {},
   "outputs": [],
   "source": [
    "#Getting length of selftext\n",
    "for i in range(len(df)):\n",
    "    df.loc[i,'selftext_length'] = len(df.iloc[i,2])"
   ]
  },
  {
   "cell_type": "code",
   "execution_count": 15,
   "metadata": {},
   "outputs": [],
   "source": [
    "#Getting length of totaltext\n",
    "for i in range(len(df)):\n",
    "    df.loc[i,'total_text_length'] = len(df.iloc[i,7])"
   ]
  },
  {
   "cell_type": "code",
   "execution_count": 16,
   "metadata": {},
   "outputs": [],
   "source": [
    "#Getting word counts of title\n",
    "for i in range(len(df)):\n",
    "     df.loc[i,'title_word_count'] = len(re.findall(r'\\w+',  df.iloc[i,1]))"
   ]
  },
  {
   "cell_type": "code",
   "execution_count": 17,
   "metadata": {},
   "outputs": [],
   "source": [
    "#Getting word counts of selftext\n",
    "for i in range(len(df)):\n",
    "     df.loc[i,'selftext_word_count'] = len(re.findall(r'\\w+',  df.iloc[i,2]))"
   ]
  },
  {
   "cell_type": "code",
   "execution_count": 18,
   "metadata": {},
   "outputs": [],
   "source": [
    "#Getting word counts of totaltext\n",
    "for i in range(len(df)):\n",
    "     df.loc[i,'totaltext_word_count'] = len(re.findall(r'\\w+',  df.iloc[i,7]))"
   ]
  },
  {
   "cell_type": "code",
   "execution_count": 19,
   "metadata": {},
   "outputs": [
    {
     "data": {
      "image/png": "[encoded data removed]",
      "text/plain": [
       "<Figure size 1440x720 with 1 Axes>"
      ]
     },
     "metadata": {
      "needs_background": "light"
     },
     "output_type": "display_data"
    }
   ],
   "source": [
    "plt.figure(figsize=(20,10))\n",
    "df['title_length'].hist(bins=25)\n",
    "plt.title('Distribution of title Lengths', fontsize=25)\n",
    "plt.xlabel('Length of title', fontsize=18)\n",
    "plt.ylabel('Frequency', fontsize=18);"
   ]
  },
  {
   "cell_type": "code",
   "execution_count": 20,
   "metadata": {},
   "outputs": [
    {
     "data": {
      "image/png": "[encoded data removed]",
      "text/plain": [
       "<Figure size 1440x720 with 1 Axes>"
      ]
     },
     "metadata": {
      "needs_background": "light"
     },
     "output_type": "display_data"
    }
   ],
   "source": [
    "plt.figure(figsize=(20,10))\n",
    "df['selftext_length'].hist(bins=25)\n",
    "plt.title('Distribution of Self Lengths', fontsize=25)\n",
    "plt.xlabel('Length of Post', fontsize=18)\n",
    "plt.ylabel('Frequency', fontsize=18);"
   ]
  },
  {
   "cell_type": "code",
   "execution_count": 21,
   "metadata": {},
   "outputs": [
    {
     "data": {
      "image/png": "[encoded data removed]",
      "text/plain": [
       "<Figure size 1440x720 with 1 Axes>"
      ]
     },
     "metadata": {
      "needs_background": "light"
     },
     "output_type": "display_data"
    }
   ],
   "source": [
    "plt.figure(figsize=(20,10))\n",
    "df['total_text_length'].hist(bins=25)\n",
    "plt.title('Distribution of Total Lengths of all Text', fontsize=25)\n",
    "plt.xlabel('Length of Total Text', fontsize=18)\n",
    "plt.ylabel('Frequency', fontsize=18);"
   ]
  },
  {
   "cell_type": "code",
   "execution_count": 22,
   "metadata": {},
   "outputs": [
    {
     "data": {
      "image/png": "[encoded data removed]",
      "text/plain": [
       "<Figure size 1440x720 with 1 Axes>"
      ]
     },
     "metadata": {
      "needs_background": "light"
     },
     "output_type": "display_data"
    }
   ],
   "source": [
    "plt.figure(figsize=(20,10))\n",
    "df['title_word_count'].hist(bins=25)\n",
    "plt.title('Distribution of Title Word Count', fontsize=25)\n",
    "plt.xlabel('Word Count of title', fontsize=18)\n",
    "plt.ylabel('Frequency', fontsize=18);"
   ]
  },
  {
   "cell_type": "code",
   "execution_count": 23,
   "metadata": {},
   "outputs": [
    {
     "data": {
      "image/png": "[encoded data removed]",
      "text/plain": [
       "<Figure size 1440x720 with 1 Axes>"
      ]
     },
     "metadata": {
      "needs_background": "light"
     },
     "output_type": "display_data"
    }
   ],
   "source": [
    "plt.figure(figsize=(20,10))\n",
    "df['selftext_word_count'].hist(bins=25)\n",
    "plt.title('Distribution of Post Word Count', fontsize=25)\n",
    "plt.xlabel('Word Count of Post', fontsize=18)\n",
    "plt.ylabel('Frequency', fontsize=18);"
   ]
  },
  {
   "cell_type": "code",
   "execution_count": 24,
   "metadata": {},
   "outputs": [
    {
     "data": {
      "image/png": "[encoded data removed]",
      "text/plain": [
       "<Figure size 1440x720 with 1 Axes>"
      ]
     },
     "metadata": {
      "needs_background": "light"
     },
     "output_type": "display_data"
    }
   ],
   "source": [
    "plt.figure(figsize=(20,10))\n",
    "df['totaltext_word_count'].hist(bins=25)\n",
    "plt.title('Distribution of Total Word Count of all Text', fontsize=25)\n",
    "plt.xlabel('Word Count of Total Text', fontsize=18)\n",
    "plt.ylabel('Frequency', fontsize=18);"
   ]
  },
  {
   "cell_type": "markdown",
   "metadata": {},
   "source": [
    "The Distrubutions of all lengths and word counts are skewed to the right. The titles lengths between one and 300 characters. A majority of the length of the titles are between 25 and 100. The word count for the titles are between one and 60 words. The length of selftext are between have 0 and 1000 with a word count bewteen 0 to 1000. "
   ]
  },
  {
   "cell_type": "markdown",
   "metadata": {},
   "source": [
    "# Longest and shortest post\n",
    "\n",
    "Looking at individual observations to get a sense of what the dataset contains."
   ]
  },
  {
   "cell_type": "code",
   "execution_count": 25,
   "metadata": {},
   "outputs": [
    {
     "data": {
      "text/html": [
       "<div>\n",
       "<style scoped>\n",
       "    .dataframe tbody tr th:only-of-type {\n",
       "        vertical-align: middle;\n",
       "    }\n",
       "\n",
       "    .dataframe tbody tr th {\n",
       "        vertical-align: top;\n",
       "    }\n",
       "\n",
       "    .dataframe thead th {\n",
       "        text-align: right;\n",
       "    }\n",
       "</style>\n",
       "<table border=\"1\" class=\"dataframe\">\n",
       "  <thead>\n",
       "    <tr style=\"text-align: right;\">\n",
       "      <th></th>\n",
       "      <th>total_text</th>\n",
       "      <th>totaltext_word_count</th>\n",
       "    </tr>\n",
       "  </thead>\n",
       "  <tbody>\n",
       "    <tr>\n",
       "      <th>3329</th>\n",
       "      <td>Post Game Thread: The Yankees defeated the Red...</td>\n",
       "      <td>2160.0</td>\n",
       "    </tr>\n",
       "    <tr>\n",
       "      <th>18119</th>\n",
       "      <td>Bullpen Breakdown: A deeper look at the top 4 ...</td>\n",
       "      <td>2258.0</td>\n",
       "    </tr>\n",
       "    <tr>\n",
       "      <th>3258</th>\n",
       "      <td>Post Game Thread: The Yankees fell to the Tige...</td>\n",
       "      <td>2744.0</td>\n",
       "    </tr>\n",
       "    <tr>\n",
       "      <th>16088</th>\n",
       "      <td>Who Would Be In Your All-Time Los Angeles Dodg...</td>\n",
       "      <td>3131.0</td>\n",
       "    </tr>\n",
       "    <tr>\n",
       "      <th>5897</th>\n",
       "      <td>Full MLB Report on the *Astros Cheating Invest...</td>\n",
       "      <td>4498.0</td>\n",
       "    </tr>\n",
       "  </tbody>\n",
       "</table>\n",
       "</div>"
      ],
      "text/plain": [
       "                                              total_text  totaltext_word_count\n",
       "3329   Post Game Thread: The Yankees defeated the Red...                2160.0\n",
       "18119  Bullpen Breakdown: A deeper look at the top 4 ...                2258.0\n",
       "3258   Post Game Thread: The Yankees fell to the Tige...                2744.0\n",
       "16088  Who Would Be In Your All-Time Los Angeles Dodg...                3131.0\n",
       "5897   Full MLB Report on the *Astros Cheating Invest...                4498.0"
      ]
     },
     "execution_count": 25,
     "metadata": {},
     "output_type": "execute_result"
    }
   ],
   "source": [
    "#5 Shortest statuses\n",
    "df.loc[:,['total_text','totaltext_word_count']].sort_values(by=['totaltext_word_count']).tail(5)"
   ]
  },
  {
   "cell_type": "code",
   "execution_count": 26,
   "metadata": {},
   "outputs": [
    {
     "data": {
      "text/html": [
       "<div>\n",
       "<style scoped>\n",
       "    .dataframe tbody tr th:only-of-type {\n",
       "        vertical-align: middle;\n",
       "    }\n",
       "\n",
       "    .dataframe tbody tr th {\n",
       "        vertical-align: top;\n",
       "    }\n",
       "\n",
       "    .dataframe thead th {\n",
       "        text-align: right;\n",
       "    }\n",
       "</style>\n",
       "<table border=\"1\" class=\"dataframe\">\n",
       "  <thead>\n",
       "    <tr style=\"text-align: right;\">\n",
       "      <th></th>\n",
       "      <th>total_text</th>\n",
       "      <th>totaltext_word_count</th>\n",
       "    </tr>\n",
       "  </thead>\n",
       "  <tbody>\n",
       "    <tr>\n",
       "      <th>21994</th>\n",
       "      <td>😎</td>\n",
       "      <td>0.0</td>\n",
       "    </tr>\n",
       "    <tr>\n",
       "      <th>4217</th>\n",
       "      <td>👀</td>\n",
       "      <td>0.0</td>\n",
       "    </tr>\n",
       "    <tr>\n",
       "      <th>26671</th>\n",
       "      <td>👀👀👀👀👀</td>\n",
       "      <td>0.0</td>\n",
       "    </tr>\n",
       "    <tr>\n",
       "      <th>13282</th>\n",
       "      <td>:(((((((((</td>\n",
       "      <td>0.0</td>\n",
       "    </tr>\n",
       "    <tr>\n",
       "      <th>24704</th>\n",
       "      <td>👞🐍</td>\n",
       "      <td>0.0</td>\n",
       "    </tr>\n",
       "  </tbody>\n",
       "</table>\n",
       "</div>"
      ],
      "text/plain": [
       "        total_text  totaltext_word_count\n",
       "21994           😎                    0.0\n",
       "4217            👀                    0.0\n",
       "26671       👀👀👀👀👀                    0.0\n",
       "13282  :(((((((((                    0.0\n",
       "24704          👞🐍                    0.0"
      ]
     },
     "execution_count": 26,
     "metadata": {},
     "output_type": "execute_result"
    }
   ],
   "source": [
    "df.loc[:,['total_text','totaltext_word_count']].sort_values(by=['totaltext_word_count']).head(5)"
   ]
  },
  {
   "cell_type": "markdown",
   "metadata": {},
   "source": [
    "The emojis will be a problem to I could one hot in code, but I will see if dropping is an option."
   ]
  },
  {
   "cell_type": "code",
   "execution_count": 27,
   "metadata": {},
   "outputs": [
    {
     "data": {
      "text/html": [
       "<div>\n",
       "<style scoped>\n",
       "    .dataframe tbody tr th:only-of-type {\n",
       "        vertical-align: middle;\n",
       "    }\n",
       "\n",
       "    .dataframe tbody tr th {\n",
       "        vertical-align: top;\n",
       "    }\n",
       "\n",
       "    .dataframe thead th {\n",
       "        text-align: right;\n",
       "    }\n",
       "</style>\n",
       "<table border=\"1\" class=\"dataframe\">\n",
       "  <thead>\n",
       "    <tr style=\"text-align: right;\">\n",
       "      <th></th>\n",
       "      <th>total_text</th>\n",
       "      <th>totaltext_word_count</th>\n",
       "    </tr>\n",
       "  </thead>\n",
       "  <tbody>\n",
       "    <tr>\n",
       "      <th>935</th>\n",
       "      <td>😋</td>\n",
       "      <td>0.0</td>\n",
       "    </tr>\n",
       "    <tr>\n",
       "      <th>2629</th>\n",
       "      <td>🤢</td>\n",
       "      <td>0.0</td>\n",
       "    </tr>\n",
       "    <tr>\n",
       "      <th>4217</th>\n",
       "      <td>👀</td>\n",
       "      <td>0.0</td>\n",
       "    </tr>\n",
       "    <tr>\n",
       "      <th>4277</th>\n",
       "      <td>🤔</td>\n",
       "      <td>0.0</td>\n",
       "    </tr>\n",
       "    <tr>\n",
       "      <th>4951</th>\n",
       "      <td>🔥</td>\n",
       "      <td>0.0</td>\n",
       "    </tr>\n",
       "    <tr>\n",
       "      <th>5426</th>\n",
       "      <td>*</td>\n",
       "      <td>0.0</td>\n",
       "    </tr>\n",
       "    <tr>\n",
       "      <th>5462</th>\n",
       "      <td>😂</td>\n",
       "      <td>0.0</td>\n",
       "    </tr>\n",
       "    <tr>\n",
       "      <th>6297</th>\n",
       "      <td>😂</td>\n",
       "      <td>0.0</td>\n",
       "    </tr>\n",
       "    <tr>\n",
       "      <th>6397</th>\n",
       "      <td>😍❤️</td>\n",
       "      <td>0.0</td>\n",
       "    </tr>\n",
       "    <tr>\n",
       "      <th>7471</th>\n",
       "      <td>💙💙💙</td>\n",
       "      <td>0.0</td>\n",
       "    </tr>\n",
       "    <tr>\n",
       "      <th>8174</th>\n",
       "      <td>🙌🙌🙌🙌</td>\n",
       "      <td>0.0</td>\n",
       "    </tr>\n",
       "    <tr>\n",
       "      <th>8720</th>\n",
       "      <td>💙</td>\n",
       "      <td>0.0</td>\n",
       "    </tr>\n",
       "    <tr>\n",
       "      <th>9722</th>\n",
       "      <td>🤑🤑🤑🤑🤑🤑</td>\n",
       "      <td>0.0</td>\n",
       "    </tr>\n",
       "    <tr>\n",
       "      <th>10412</th>\n",
       "      <td>🔥</td>\n",
       "      <td>0.0</td>\n",
       "    </tr>\n",
       "    <tr>\n",
       "      <th>10751</th>\n",
       "      <td>***</td>\n",
       "      <td>0.0</td>\n",
       "    </tr>\n",
       "    <tr>\n",
       "      <th>11317</th>\n",
       "      <td>👀👀👀</td>\n",
       "      <td>0.0</td>\n",
       "    </tr>\n",
       "    <tr>\n",
       "      <th>11545</th>\n",
       "      <td>...</td>\n",
       "      <td>0.0</td>\n",
       "    </tr>\n",
       "    <tr>\n",
       "      <th>11707</th>\n",
       "      <td>😑</td>\n",
       "      <td>0.0</td>\n",
       "    </tr>\n",
       "    <tr>\n",
       "      <th>12495</th>\n",
       "      <td>😂😂😂</td>\n",
       "      <td>0.0</td>\n",
       "    </tr>\n",
       "    <tr>\n",
       "      <th>12718</th>\n",
       "      <td>...</td>\n",
       "      <td>0.0</td>\n",
       "    </tr>\n",
       "    <tr>\n",
       "      <th>12733</th>\n",
       "      <td>😭😭😭😢😢😢</td>\n",
       "      <td>0.0</td>\n",
       "    </tr>\n",
       "    <tr>\n",
       "      <th>13282</th>\n",
       "      <td>:(((((((((</td>\n",
       "      <td>0.0</td>\n",
       "    </tr>\n",
       "    <tr>\n",
       "      <th>13552</th>\n",
       "      <td>:(</td>\n",
       "      <td>0.0</td>\n",
       "    </tr>\n",
       "    <tr>\n",
       "      <th>13716</th>\n",
       "      <td>.....</td>\n",
       "      <td>0.0</td>\n",
       "    </tr>\n",
       "    <tr>\n",
       "      <th>13916</th>\n",
       "      <td>❤️</td>\n",
       "      <td>0.0</td>\n",
       "    </tr>\n",
       "    <tr>\n",
       "      <th>14105</th>\n",
       "      <td>🤣🤣🤣🤣👍👍</td>\n",
       "      <td>0.0</td>\n",
       "    </tr>\n",
       "    <tr>\n",
       "      <th>14933</th>\n",
       "      <td>🐐🐐🐐</td>\n",
       "      <td>0.0</td>\n",
       "    </tr>\n",
       "    <tr>\n",
       "      <th>17194</th>\n",
       "      <td>🙏🙏🙏🙏</td>\n",
       "      <td>0.0</td>\n",
       "    </tr>\n",
       "    <tr>\n",
       "      <th>18633</th>\n",
       "      <td>👋</td>\n",
       "      <td>0.0</td>\n",
       "    </tr>\n",
       "    <tr>\n",
       "      <th>18938</th>\n",
       "      <td>🙈🙈🙈</td>\n",
       "      <td>0.0</td>\n",
       "    </tr>\n",
       "    <tr>\n",
       "      <th>20717</th>\n",
       "      <td>🤔</td>\n",
       "      <td>0.0</td>\n",
       "    </tr>\n",
       "    <tr>\n",
       "      <th>21994</th>\n",
       "      <td>😎</td>\n",
       "      <td>0.0</td>\n",
       "    </tr>\n",
       "    <tr>\n",
       "      <th>22592</th>\n",
       "      <td>😂</td>\n",
       "      <td>0.0</td>\n",
       "    </tr>\n",
       "    <tr>\n",
       "      <th>22660</th>\n",
       "      <td>🤔</td>\n",
       "      <td>0.0</td>\n",
       "    </tr>\n",
       "    <tr>\n",
       "      <th>23335</th>\n",
       "      <td>🤮</td>\n",
       "      <td>0.0</td>\n",
       "    </tr>\n",
       "    <tr>\n",
       "      <th>23537</th>\n",
       "      <td>🍆🍆🍆</td>\n",
       "      <td>0.0</td>\n",
       "    </tr>\n",
       "    <tr>\n",
       "      <th>24520</th>\n",
       "      <td>😂</td>\n",
       "      <td>0.0</td>\n",
       "    </tr>\n",
       "    <tr>\n",
       "      <th>24704</th>\n",
       "      <td>👞🐍</td>\n",
       "      <td>0.0</td>\n",
       "    </tr>\n",
       "    <tr>\n",
       "      <th>25144</th>\n",
       "      <td>😶</td>\n",
       "      <td>0.0</td>\n",
       "    </tr>\n",
       "    <tr>\n",
       "      <th>26249</th>\n",
       "      <td>🤔</td>\n",
       "      <td>0.0</td>\n",
       "    </tr>\n",
       "    <tr>\n",
       "      <th>26671</th>\n",
       "      <td>👀👀👀👀👀</td>\n",
       "      <td>0.0</td>\n",
       "    </tr>\n",
       "    <tr>\n",
       "      <th>26672</th>\n",
       "      <td>👀</td>\n",
       "      <td>0.0</td>\n",
       "    </tr>\n",
       "    <tr>\n",
       "      <th>28070</th>\n",
       "      <td>😅😅😅</td>\n",
       "      <td>0.0</td>\n",
       "    </tr>\n",
       "    <tr>\n",
       "      <th>28107</th>\n",
       "      <td>😢</td>\n",
       "      <td>0.0</td>\n",
       "    </tr>\n",
       "  </tbody>\n",
       "</table>\n",
       "</div>"
      ],
      "text/plain": [
       "        total_text  totaltext_word_count\n",
       "935             😋                    0.0\n",
       "2629            🤢                    0.0\n",
       "4217            👀                    0.0\n",
       "4277            🤔                    0.0\n",
       "4951            🔥                    0.0\n",
       "5426            *                    0.0\n",
       "5462            😂                    0.0\n",
       "6297            😂                    0.0\n",
       "6397          😍❤️                    0.0\n",
       "7471          💙💙💙                    0.0\n",
       "8174         🙌🙌🙌🙌                    0.0\n",
       "8720            💙                    0.0\n",
       "9722       🤑🤑🤑🤑🤑🤑                    0.0\n",
       "10412           🔥                    0.0\n",
       "10751         ***                    0.0\n",
       "11317         👀👀👀                    0.0\n",
       "11545         ...                    0.0\n",
       "11707           😑                    0.0\n",
       "12495         😂😂😂                    0.0\n",
       "12718         ...                    0.0\n",
       "12733      😭😭😭😢😢😢                    0.0\n",
       "13282  :(((((((((                    0.0\n",
       "13552          :(                    0.0\n",
       "13716       .....                    0.0\n",
       "13916          ❤️                    0.0\n",
       "14105      🤣🤣🤣🤣👍👍                    0.0\n",
       "14933         🐐🐐🐐                    0.0\n",
       "17194        🙏🙏🙏🙏                    0.0\n",
       "18633           👋                    0.0\n",
       "18938         🙈🙈🙈                    0.0\n",
       "20717           🤔                    0.0\n",
       "21994           😎                    0.0\n",
       "22592           😂                    0.0\n",
       "22660           🤔                    0.0\n",
       "23335           🤮                    0.0\n",
       "23537         🍆🍆🍆                    0.0\n",
       "24520           😂                    0.0\n",
       "24704          👞🐍                    0.0\n",
       "25144           😶                    0.0\n",
       "26249           🤔                    0.0\n",
       "26671       👀👀👀👀👀                    0.0\n",
       "26672           👀                    0.0\n",
       "28070         😅😅😅                    0.0\n",
       "28107           😢                    0.0"
      ]
     },
     "execution_count": 27,
     "metadata": {},
     "output_type": "execute_result"
    }
   ],
   "source": [
    "df.loc[df['totaltext_word_count'] == 0,['total_text','totaltext_word_count']]"
   ]
  },
  {
   "cell_type": "code",
   "execution_count": 28,
   "metadata": {},
   "outputs": [],
   "source": [
    "df.drop(index = list(df[df['totaltext_word_count']== 0].index), inplace = True)"
   ]
  },
  {
   "cell_type": "code",
   "execution_count": 29,
   "metadata": {},
   "outputs": [
    {
     "data": {
      "text/html": [
       "<div>\n",
       "<style scoped>\n",
       "    .dataframe tbody tr th:only-of-type {\n",
       "        vertical-align: middle;\n",
       "    }\n",
       "\n",
       "    .dataframe tbody tr th {\n",
       "        vertical-align: top;\n",
       "    }\n",
       "\n",
       "    .dataframe thead th {\n",
       "        text-align: right;\n",
       "    }\n",
       "</style>\n",
       "<table border=\"1\" class=\"dataframe\">\n",
       "  <thead>\n",
       "    <tr style=\"text-align: right;\">\n",
       "      <th></th>\n",
       "      <th>total_text</th>\n",
       "      <th>totaltext_word_count</th>\n",
       "    </tr>\n",
       "  </thead>\n",
       "  <tbody>\n",
       "    <tr>\n",
       "      <th>13911</th>\n",
       "      <td>honestly</td>\n",
       "      <td>1.0</td>\n",
       "    </tr>\n",
       "    <tr>\n",
       "      <th>19026</th>\n",
       "      <td>FUCK</td>\n",
       "      <td>1.0</td>\n",
       "    </tr>\n",
       "    <tr>\n",
       "      <th>25605</th>\n",
       "      <td>💗 love</td>\n",
       "      <td>1.0</td>\n",
       "    </tr>\n",
       "    <tr>\n",
       "      <th>9302</th>\n",
       "      <td>Focused</td>\n",
       "      <td>1.0</td>\n",
       "    </tr>\n",
       "    <tr>\n",
       "      <th>21903</th>\n",
       "      <td>YouTube</td>\n",
       "      <td>1.0</td>\n",
       "    </tr>\n",
       "  </tbody>\n",
       "</table>\n",
       "</div>"
      ],
      "text/plain": [
       "      total_text  totaltext_word_count\n",
       "13911  honestly                    1.0\n",
       "19026      FUCK                    1.0\n",
       "25605    💗 love                    1.0\n",
       "9302    Focused                    1.0\n",
       "21903   YouTube                    1.0"
      ]
     },
     "execution_count": 29,
     "metadata": {},
     "output_type": "execute_result"
    }
   ],
   "source": [
    "df.loc[:,['total_text','totaltext_word_count']].sort_values(by=['totaltext_word_count']).head(5)"
   ]
  },
  {
   "cell_type": "markdown",
   "metadata": {},
   "source": [
    "There was 44 just emoji post that have been removed from the data set. They would have not added any infromation for the model to us for classifying a Dodger or Yankee post. However, if someone only uses emojis in there post the model would not be able to incorprate a them in the current model.<br><br> The data has a lot of one word post that will not help the models accuracy for predicting the two subreddits. There is 275 that I will drop from the data set. I will dont want to drop any thing above this because of player names could be they only words in the post. \n"
   ]
  },
  {
   "cell_type": "code",
   "execution_count": 30,
   "metadata": {},
   "outputs": [],
   "source": [
    "df.drop(index = list(df[df['totaltext_word_count']== 1].index), inplace = True)"
   ]
  },
  {
   "cell_type": "code",
   "execution_count": 31,
   "metadata": {},
   "outputs": [
    {
     "data": {
      "text/html": [
       "<div>\n",
       "<style scoped>\n",
       "    .dataframe tbody tr th:only-of-type {\n",
       "        vertical-align: middle;\n",
       "    }\n",
       "\n",
       "    .dataframe tbody tr th {\n",
       "        vertical-align: top;\n",
       "    }\n",
       "\n",
       "    .dataframe thead th {\n",
       "        text-align: right;\n",
       "    }\n",
       "</style>\n",
       "<table border=\"1\" class=\"dataframe\">\n",
       "  <thead>\n",
       "    <tr style=\"text-align: right;\">\n",
       "      <th></th>\n",
       "      <th>total_text</th>\n",
       "      <th>totaltext_word_count</th>\n",
       "    </tr>\n",
       "  </thead>\n",
       "  <tbody>\n",
       "    <tr>\n",
       "      <th>6937</th>\n",
       "      <td>Dre-Matic!</td>\n",
       "      <td>2.0</td>\n",
       "    </tr>\n",
       "    <tr>\n",
       "      <th>7606</th>\n",
       "      <td>hi [removed]</td>\n",
       "      <td>2.0</td>\n",
       "    </tr>\n",
       "    <tr>\n",
       "      <th>20506</th>\n",
       "      <td>Da Dodgers</td>\n",
       "      <td>2.0</td>\n",
       "    </tr>\n",
       "    <tr>\n",
       "      <th>7601</th>\n",
       "      <td>LA Skyline</td>\n",
       "      <td>2.0</td>\n",
       "    </tr>\n",
       "    <tr>\n",
       "      <th>20525</th>\n",
       "      <td>MLB Beast!</td>\n",
       "      <td>2.0</td>\n",
       "    </tr>\n",
       "  </tbody>\n",
       "</table>\n",
       "</div>"
      ],
      "text/plain": [
       "         total_text  totaltext_word_count\n",
       "6937    Dre-Matic!                    2.0\n",
       "7606   hi [removed]                   2.0\n",
       "20506   Da Dodgers                    2.0\n",
       "7601    LA Skyline                    2.0\n",
       "20525   MLB Beast!                    2.0"
      ]
     },
     "execution_count": 31,
     "metadata": {},
     "output_type": "execute_result"
    }
   ],
   "source": [
    "df.loc[:,['total_text','totaltext_word_count']].sort_values(by=['totaltext_word_count']).head(5)"
   ]
  },
  {
   "cell_type": "markdown",
   "metadata": {},
   "source": [
    "### Target\n",
    "\n",
    "Convert Dodgers/NYYankees into binary labels:\n",
    "- 0 for Dodgers\n",
    "- 1 for NYYankees"
   ]
  },
  {
   "cell_type": "code",
   "execution_count": 32,
   "metadata": {},
   "outputs": [],
   "source": [
    "df['target'] = df['subreddit'].map({'Dodgers':0, 'NYYankees':1})"
   ]
  },
  {
   "cell_type": "markdown",
   "metadata": {},
   "source": [
    "## Pre-Processing EDA\n",
    "\n",
    "When dealing with text data, there are common pre-processing steps. We won't necessarily use all of them every time we deal with text data. **note:** The pre-proceessing done here is \n",
    "\n",
    "- Remove special characters\n",
    "- Tokenizing\n",
    "- Lemmatizing/Stemming\n",
    "- Stop word removal\n",
    "\n",
    "### Remove Non-Letters & Tokenize\n",
    "\n",
    "We need to remove unnecessary characters when cleaning text data (punctuation, symbols, etc.) then the data is tokeniezed into distict pattern. Count Vectorizer has a default tokeniezor that will be used. \n",
    "\n",
    "### Lemmatizing/Stemming\n",
    "\n",
    "**Lemmatizing** and **stemming** are two forms of shortening words so we can combine similar forms of the same word. When we \"**lemmatize**\" data, we take words and attempt to return their *lemma*, or the base/dictionary form of a word. I will not be lemmatizing or stemming data becuase it will not help predictions.\n",
    "\n",
    "### Stopwords \n",
    "\n",
    "Stopwords are very common words that are often removed because they can amount to unnecessary information and removing them can dramatically speed things up. I will be using the default 'english' stop paramaters. "
   ]
  },
  {
   "cell_type": "code",
   "execution_count": 33,
   "metadata": {},
   "outputs": [],
   "source": [
    "vectorizer = CountVectorizer(stop_words = 'english',\n",
    "                             max_features = 5_000)"
   ]
  },
  {
   "cell_type": "code",
   "execution_count": 34,
   "metadata": {},
   "outputs": [],
   "source": [
    "X = df['total_text']\n",
    "y = df['target']"
   ]
  },
  {
   "cell_type": "code",
   "execution_count": 35,
   "metadata": {},
   "outputs": [],
   "source": [
    "X_trans = vectorizer.fit_transform(X, y)"
   ]
  },
  {
   "cell_type": "code",
   "execution_count": 36,
   "metadata": {},
   "outputs": [
    {
     "data": {
      "text/html": [
       "<div>\n",
       "<style scoped>\n",
       "    .dataframe tbody tr th:only-of-type {\n",
       "        vertical-align: middle;\n",
       "    }\n",
       "\n",
       "    .dataframe tbody tr th {\n",
       "        vertical-align: top;\n",
       "    }\n",
       "\n",
       "    .dataframe thead th {\n",
       "        text-align: right;\n",
       "    }\n",
       "</style>\n",
       "<table border=\"1\" class=\"dataframe\">\n",
       "  <thead>\n",
       "    <tr style=\"text-align: right;\">\n",
       "      <th></th>\n",
       "      <th>00</th>\n",
       "      <th>000</th>\n",
       "      <th>00pm</th>\n",
       "      <th>01</th>\n",
       "      <th>02</th>\n",
       "      <th>03</th>\n",
       "      <th>04</th>\n",
       "      <th>05</th>\n",
       "      <th>06</th>\n",
       "      <th>07</th>\n",
       "      <th>...</th>\n",
       "      <th>yu</th>\n",
       "      <th>zach</th>\n",
       "      <th>zack</th>\n",
       "      <th>zaidi</th>\n",
       "      <th>zehner</th>\n",
       "      <th>zero</th>\n",
       "      <th>zone</th>\n",
       "      <th>zonetrack</th>\n",
       "      <th>zoom</th>\n",
       "      <th>álvarez</th>\n",
       "    </tr>\n",
       "  </thead>\n",
       "  <tbody>\n",
       "    <tr>\n",
       "      <th>0</th>\n",
       "      <td>0</td>\n",
       "      <td>0</td>\n",
       "      <td>0</td>\n",
       "      <td>0</td>\n",
       "      <td>0</td>\n",
       "      <td>0</td>\n",
       "      <td>0</td>\n",
       "      <td>0</td>\n",
       "      <td>0</td>\n",
       "      <td>0</td>\n",
       "      <td>...</td>\n",
       "      <td>0</td>\n",
       "      <td>0</td>\n",
       "      <td>0</td>\n",
       "      <td>0</td>\n",
       "      <td>0</td>\n",
       "      <td>0</td>\n",
       "      <td>0</td>\n",
       "      <td>0</td>\n",
       "      <td>0</td>\n",
       "      <td>0</td>\n",
       "    </tr>\n",
       "    <tr>\n",
       "      <th>1</th>\n",
       "      <td>0</td>\n",
       "      <td>0</td>\n",
       "      <td>0</td>\n",
       "      <td>0</td>\n",
       "      <td>0</td>\n",
       "      <td>0</td>\n",
       "      <td>0</td>\n",
       "      <td>0</td>\n",
       "      <td>0</td>\n",
       "      <td>0</td>\n",
       "      <td>...</td>\n",
       "      <td>0</td>\n",
       "      <td>0</td>\n",
       "      <td>0</td>\n",
       "      <td>0</td>\n",
       "      <td>0</td>\n",
       "      <td>0</td>\n",
       "      <td>0</td>\n",
       "      <td>0</td>\n",
       "      <td>0</td>\n",
       "      <td>0</td>\n",
       "    </tr>\n",
       "    <tr>\n",
       "      <th>2</th>\n",
       "      <td>0</td>\n",
       "      <td>0</td>\n",
       "      <td>0</td>\n",
       "      <td>0</td>\n",
       "      <td>0</td>\n",
       "      <td>0</td>\n",
       "      <td>0</td>\n",
       "      <td>0</td>\n",
       "      <td>0</td>\n",
       "      <td>0</td>\n",
       "      <td>...</td>\n",
       "      <td>0</td>\n",
       "      <td>0</td>\n",
       "      <td>0</td>\n",
       "      <td>0</td>\n",
       "      <td>0</td>\n",
       "      <td>0</td>\n",
       "      <td>0</td>\n",
       "      <td>0</td>\n",
       "      <td>0</td>\n",
       "      <td>0</td>\n",
       "    </tr>\n",
       "    <tr>\n",
       "      <th>3</th>\n",
       "      <td>0</td>\n",
       "      <td>0</td>\n",
       "      <td>0</td>\n",
       "      <td>0</td>\n",
       "      <td>0</td>\n",
       "      <td>0</td>\n",
       "      <td>0</td>\n",
       "      <td>0</td>\n",
       "      <td>0</td>\n",
       "      <td>0</td>\n",
       "      <td>...</td>\n",
       "      <td>0</td>\n",
       "      <td>0</td>\n",
       "      <td>0</td>\n",
       "      <td>0</td>\n",
       "      <td>0</td>\n",
       "      <td>0</td>\n",
       "      <td>0</td>\n",
       "      <td>0</td>\n",
       "      <td>0</td>\n",
       "      <td>0</td>\n",
       "    </tr>\n",
       "    <tr>\n",
       "      <th>4</th>\n",
       "      <td>0</td>\n",
       "      <td>0</td>\n",
       "      <td>0</td>\n",
       "      <td>0</td>\n",
       "      <td>0</td>\n",
       "      <td>0</td>\n",
       "      <td>0</td>\n",
       "      <td>0</td>\n",
       "      <td>0</td>\n",
       "      <td>0</td>\n",
       "      <td>...</td>\n",
       "      <td>0</td>\n",
       "      <td>0</td>\n",
       "      <td>0</td>\n",
       "      <td>0</td>\n",
       "      <td>0</td>\n",
       "      <td>0</td>\n",
       "      <td>0</td>\n",
       "      <td>0</td>\n",
       "      <td>0</td>\n",
       "      <td>0</td>\n",
       "    </tr>\n",
       "    <tr>\n",
       "      <th>...</th>\n",
       "      <td>...</td>\n",
       "      <td>...</td>\n",
       "      <td>...</td>\n",
       "      <td>...</td>\n",
       "      <td>...</td>\n",
       "      <td>...</td>\n",
       "      <td>...</td>\n",
       "      <td>...</td>\n",
       "      <td>...</td>\n",
       "      <td>...</td>\n",
       "      <td>...</td>\n",
       "      <td>...</td>\n",
       "      <td>...</td>\n",
       "      <td>...</td>\n",
       "      <td>...</td>\n",
       "      <td>...</td>\n",
       "      <td>...</td>\n",
       "      <td>...</td>\n",
       "      <td>...</td>\n",
       "      <td>...</td>\n",
       "      <td>...</td>\n",
       "    </tr>\n",
       "    <tr>\n",
       "      <th>27825</th>\n",
       "      <td>0</td>\n",
       "      <td>0</td>\n",
       "      <td>0</td>\n",
       "      <td>0</td>\n",
       "      <td>0</td>\n",
       "      <td>0</td>\n",
       "      <td>0</td>\n",
       "      <td>0</td>\n",
       "      <td>0</td>\n",
       "      <td>0</td>\n",
       "      <td>...</td>\n",
       "      <td>0</td>\n",
       "      <td>0</td>\n",
       "      <td>0</td>\n",
       "      <td>0</td>\n",
       "      <td>0</td>\n",
       "      <td>0</td>\n",
       "      <td>0</td>\n",
       "      <td>0</td>\n",
       "      <td>0</td>\n",
       "      <td>0</td>\n",
       "    </tr>\n",
       "    <tr>\n",
       "      <th>27826</th>\n",
       "      <td>0</td>\n",
       "      <td>0</td>\n",
       "      <td>0</td>\n",
       "      <td>0</td>\n",
       "      <td>0</td>\n",
       "      <td>0</td>\n",
       "      <td>0</td>\n",
       "      <td>0</td>\n",
       "      <td>0</td>\n",
       "      <td>0</td>\n",
       "      <td>...</td>\n",
       "      <td>0</td>\n",
       "      <td>0</td>\n",
       "      <td>0</td>\n",
       "      <td>0</td>\n",
       "      <td>0</td>\n",
       "      <td>0</td>\n",
       "      <td>0</td>\n",
       "      <td>0</td>\n",
       "      <td>0</td>\n",
       "      <td>0</td>\n",
       "    </tr>\n",
       "    <tr>\n",
       "      <th>27827</th>\n",
       "      <td>0</td>\n",
       "      <td>0</td>\n",
       "      <td>0</td>\n",
       "      <td>0</td>\n",
       "      <td>0</td>\n",
       "      <td>0</td>\n",
       "      <td>0</td>\n",
       "      <td>0</td>\n",
       "      <td>0</td>\n",
       "      <td>0</td>\n",
       "      <td>...</td>\n",
       "      <td>0</td>\n",
       "      <td>0</td>\n",
       "      <td>0</td>\n",
       "      <td>0</td>\n",
       "      <td>0</td>\n",
       "      <td>0</td>\n",
       "      <td>0</td>\n",
       "      <td>0</td>\n",
       "      <td>0</td>\n",
       "      <td>0</td>\n",
       "    </tr>\n",
       "    <tr>\n",
       "      <th>27828</th>\n",
       "      <td>0</td>\n",
       "      <td>0</td>\n",
       "      <td>0</td>\n",
       "      <td>0</td>\n",
       "      <td>0</td>\n",
       "      <td>0</td>\n",
       "      <td>0</td>\n",
       "      <td>0</td>\n",
       "      <td>0</td>\n",
       "      <td>0</td>\n",
       "      <td>...</td>\n",
       "      <td>0</td>\n",
       "      <td>0</td>\n",
       "      <td>0</td>\n",
       "      <td>0</td>\n",
       "      <td>0</td>\n",
       "      <td>0</td>\n",
       "      <td>0</td>\n",
       "      <td>0</td>\n",
       "      <td>0</td>\n",
       "      <td>0</td>\n",
       "    </tr>\n",
       "    <tr>\n",
       "      <th>27829</th>\n",
       "      <td>0</td>\n",
       "      <td>0</td>\n",
       "      <td>0</td>\n",
       "      <td>0</td>\n",
       "      <td>0</td>\n",
       "      <td>0</td>\n",
       "      <td>0</td>\n",
       "      <td>0</td>\n",
       "      <td>0</td>\n",
       "      <td>0</td>\n",
       "      <td>...</td>\n",
       "      <td>0</td>\n",
       "      <td>0</td>\n",
       "      <td>0</td>\n",
       "      <td>0</td>\n",
       "      <td>0</td>\n",
       "      <td>0</td>\n",
       "      <td>0</td>\n",
       "      <td>0</td>\n",
       "      <td>0</td>\n",
       "      <td>0</td>\n",
       "    </tr>\n",
       "  </tbody>\n",
       "</table>\n",
       "<p>27830 rows × 5000 columns</p>\n",
       "</div>"
      ],
      "text/plain": [
       "       00  000  00pm  01  02  03  04  05  06  07  ...  yu  zach  zack  zaidi  \\\n",
       "0       0    0     0   0   0   0   0   0   0   0  ...   0     0     0      0   \n",
       "1       0    0     0   0   0   0   0   0   0   0  ...   0     0     0      0   \n",
       "2       0    0     0   0   0   0   0   0   0   0  ...   0     0     0      0   \n",
       "3       0    0     0   0   0   0   0   0   0   0  ...   0     0     0      0   \n",
       "4       0    0     0   0   0   0   0   0   0   0  ...   0     0     0      0   \n",
       "...    ..  ...   ...  ..  ..  ..  ..  ..  ..  ..  ...  ..   ...   ...    ...   \n",
       "27825   0    0     0   0   0   0   0   0   0   0  ...   0     0     0      0   \n",
       "27826   0    0     0   0   0   0   0   0   0   0  ...   0     0     0      0   \n",
       "27827   0    0     0   0   0   0   0   0   0   0  ...   0     0     0      0   \n",
       "27828   0    0     0   0   0   0   0   0   0   0  ...   0     0     0      0   \n",
       "27829   0    0     0   0   0   0   0   0   0   0  ...   0     0     0      0   \n",
       "\n",
       "       zehner  zero  zone  zonetrack  zoom  álvarez  \n",
       "0           0     0     0          0     0        0  \n",
       "1           0     0     0          0     0        0  \n",
       "2           0     0     0          0     0        0  \n",
       "3           0     0     0          0     0        0  \n",
       "4           0     0     0          0     0        0  \n",
       "...       ...   ...   ...        ...   ...      ...  \n",
       "27825       0     0     0          0     0        0  \n",
       "27826       0     0     0          0     0        0  \n",
       "27827       0     0     0          0     0        0  \n",
       "27828       0     0     0          0     0        0  \n",
       "27829       0     0     0          0     0        0  \n",
       "\n",
       "[27830 rows x 5000 columns]"
      ]
     },
     "execution_count": 36,
     "metadata": {},
     "output_type": "execute_result"
    }
   ],
   "source": [
    "X_trans_df = pd.DataFrame(X_trans.toarray(),\n",
    "                          columns=vectorizer.get_feature_names())\n",
    "X_trans_df"
   ]
  },
  {
   "cell_type": "code",
   "execution_count": 37,
   "metadata": {},
   "outputs": [],
   "source": [
    "#code from NLP:II\n",
    "top_words = {}\n",
    "\n",
    "for i in X_trans_df.columns:\n",
    "    top_words[i] =  X_trans_df[i].sum()\n",
    "    \n",
    "most_freq = pd.DataFrame(sorted(top_words.items(), key = lambda x: x[1], reverse = True))"
   ]
  },
  {
   "cell_type": "code",
   "execution_count": 38,
   "metadata": {},
   "outputs": [
    {
     "data": {
      "text/html": [
       "<div>\n",
       "<style scoped>\n",
       "    .dataframe tbody tr th:only-of-type {\n",
       "        vertical-align: middle;\n",
       "    }\n",
       "\n",
       "    .dataframe tbody tr th {\n",
       "        vertical-align: top;\n",
       "    }\n",
       "\n",
       "    .dataframe thead th {\n",
       "        text-align: right;\n",
       "    }\n",
       "</style>\n",
       "<table border=\"1\" class=\"dataframe\">\n",
       "  <thead>\n",
       "    <tr style=\"text-align: right;\">\n",
       "      <th></th>\n",
       "      <th>0</th>\n",
       "      <th>1</th>\n",
       "    </tr>\n",
       "  </thead>\n",
       "  <tbody>\n",
       "    <tr>\n",
       "      <th>0</th>\n",
       "      <td>mlb</td>\n",
       "      <td>11289</td>\n",
       "    </tr>\n",
       "    <tr>\n",
       "      <th>1</th>\n",
       "      <td>dodgers</td>\n",
       "      <td>10770</td>\n",
       "    </tr>\n",
       "    <tr>\n",
       "      <th>2</th>\n",
       "      <td>game</td>\n",
       "      <td>8345</td>\n",
       "    </tr>\n",
       "    <tr>\n",
       "      <th>3</th>\n",
       "      <td>com</td>\n",
       "      <td>7688</td>\n",
       "    </tr>\n",
       "    <tr>\n",
       "      <th>4</th>\n",
       "      <td>team</td>\n",
       "      <td>6902</td>\n",
       "    </tr>\n",
       "  </tbody>\n",
       "</table>\n",
       "</div>"
      ],
      "text/plain": [
       "         0      1\n",
       "0      mlb  11289\n",
       "1  dodgers  10770\n",
       "2     game   8345\n",
       "3      com   7688\n",
       "4     team   6902"
      ]
     },
     "execution_count": 38,
     "metadata": {},
     "output_type": "execute_result"
    }
   ],
   "source": [
    "most_freq.head()"
   ]
  },
  {
   "cell_type": "code",
   "execution_count": 49,
   "metadata": {},
   "outputs": [
    {
     "data": {
      "image/png": "[encoded data removed]",
      "text/plain": [
       "<Figure size 1152x720 with 1 Axes>"
      ]
     },
     "metadata": {
      "needs_background": "light"
     },
     "output_type": "display_data"
    }
   ],
   "source": [
    "plt.figure(figsize = (16, 10))\n",
    "\n",
    "# visualize top 10 words\n",
    "plt.bar(most_freq[0][:20], most_freq[1][:20])\n",
    "plt.title('Frequent Words')\n",
    "plt.xlabel('Word');"
   ]
  },
  {
   "cell_type": "markdown",
   "metadata": {},
   "source": [
    "The above graph shows the top words from the data. It tells me that I have some words to still clean from the data. Words that should be removed from modeling: http, amp, https, jsp, player_id, com. The words list are just the top words I see that should be removed from the list. **note:** I will remove '[removed]' and '[deleted]' from the list of words. "
   ]
  },
  {
   "cell_type": "code",
   "execution_count": 40,
   "metadata": {},
   "outputs": [
    {
     "data": {
      "image/png": "[encoded data removed]",
      "text/plain": [
       "<Figure size 1152x720 with 1 Axes>"
      ]
     },
     "metadata": {
      "needs_background": "light"
     },
     "output_type": "display_data"
    }
   ],
   "source": [
    "plt.figure(figsize = (16, 10))\n",
    "\n",
    "# visualize top 10 words\n",
    "plt.bar(most_freq[0][-20:], most_freq[1][-20:]);"
   ]
  },
  {
   "cell_type": "markdown",
   "metadata": {},
   "source": [
    "The the less frequent words below 12 look like they will not help the predicting the model. I will grid search the pramaters to see what works the best."
   ]
  },
  {
   "cell_type": "markdown",
   "metadata": {},
   "source": [
    "## Term Frequency-Inverse Document Frequency (TF-IDF) Vectorizer\n",
    "\n",
    "TF-IDF is a score that tells us which words are important to one document, relative to all other documents. Words that occur often in one document but don't occur in many documents contain more predictive power.\n",
    "\n",
    "For the task of classiying which post belong to whci MLB team, TF_IDF vectoizer might be better for prediction. "
   ]
  },
  {
   "cell_type": "code",
   "execution_count": 41,
   "metadata": {},
   "outputs": [],
   "source": [
    "tvec = TfidfVectorizer(stop_words = 'english', \n",
    "                      max_features = 5_000)"
   ]
  },
  {
   "cell_type": "code",
   "execution_count": 42,
   "metadata": {},
   "outputs": [],
   "source": [
    "df_tvec = pd.DataFrame(tvec.fit_transform(X).toarray(),\n",
    "                  columns=tvec.get_feature_names())"
   ]
  },
  {
   "cell_type": "code",
   "execution_count": 43,
   "metadata": {},
   "outputs": [],
   "source": [
    "# get count of top-occurring words\n",
    "top_words_tf = {}\n",
    "for i in df_tvec.columns:\n",
    "    top_words_tf[i] =  df_tvec[i].sum()\n",
    "    \n",
    "# top_words to dataframe sorted by highest occurance\n",
    "most_freq_tf = pd.DataFrame(sorted(top_words_tf.items(), key = lambda x: x[1], reverse = True))"
   ]
  },
  {
   "cell_type": "code",
   "execution_count": 44,
   "metadata": {},
   "outputs": [
    {
     "data": {
      "image/png": "[encoded data removed]",
      "text/plain": [
       "<Figure size 1152x720 with 1 Axes>"
      ]
     },
     "metadata": {
      "needs_background": "light"
     },
     "output_type": "display_data"
    }
   ],
   "source": [
    "plt.figure(figsize = (16, 10))\n",
    "\n",
    "# visualize top 10 words\n",
    "plt.bar(most_freq_tf[0][:20], most_freq_tf[1][:20]);"
   ]
  },
  {
   "cell_type": "markdown",
   "metadata": {},
   "source": [
    "TF-IDF Scores dodgers and yankees a lot better then Count Vectorizer. I will strong consider using TF-IDF vectoizer when modeling, but I might consider using grid search to determine which is better for predcition."
   ]
  },
  {
   "cell_type": "code",
   "execution_count": 45,
   "metadata": {},
   "outputs": [
    {
     "data": {
      "image/png": "[encoded data removed]",
      "text/plain": [
       "<Figure size 1152x720 with 1 Axes>"
      ]
     },
     "metadata": {
      "needs_background": "light"
     },
     "output_type": "display_data"
    }
   ],
   "source": [
    "plt.figure(figsize = (16, 10))\n",
    "\n",
    "# visualize top 10 words\n",
    "plt.bar(most_freq_tf[0][-20:], most_freq_tf[1][-20:]);"
   ]
  },
  {
   "cell_type": "markdown",
   "metadata": {},
   "source": [
    "- Does the student address whether or not they are likely to be able to answer their problem statement with the provided data given what they've discovered during EDA?"
   ]
  },
  {
   "cell_type": "markdown",
   "metadata": {},
   "source": [
    "From the post, I am very likely to create a model that can classify a post is a Dodger post or Yankee post, which could then be build out to more MLB teams. Playe names also seem to be very important in classifying a dodger and a yankee post."
   ]
  },
  {
   "cell_type": "code",
   "execution_count": 46,
   "metadata": {},
   "outputs": [],
   "source": [
    "df_clean_data = df[['total_text','subreddit','target']]"
   ]
  },
  {
   "cell_type": "code",
   "execution_count": 47,
   "metadata": {},
   "outputs": [],
   "source": [
    "df_clean_data.to_csv('../data/df_clean_data.csv', index = False)"
   ]
  }
 ],
 "metadata": {
  "kernelspec": {
   "display_name": "Python 3",
   "language": "python",
   "name": "python3"
  },
  "language_info": {
   "codemirror_mode": {
    "name": "ipython",
    "version": 3
   },
   "file_extension": ".py",
   "mimetype": "text/x-python",
   "name": "python",
   "nbconvert_exporter": "python",
   "pygments_lexer": "ipython3",
   "version": "3.7.6"
  }
 },
 "nbformat": 4,
 "nbformat_minor": 4
}
