{
 "cells": [
  {
   "cell_type": "code",
   "execution_count": 2,
   "metadata": {},
   "outputs": [],
   "source": [
    "import requests\n",
    "import pandas as pd\n",
    "import time\n",
    "\n",
    "# Adapted from Tim Book's OH Demo \n",
    "# Adapted from Charles\n",
    "'''\n",
    "Requests posts from specified subreddit and returns a pandas dataframe\n",
    "Arguments:  subreddit - /r/ sub to pull posts from\n",
    "            postcount - Number of posts to requests\n",
    "            endtime - Epoch datetime to work backwards from\n",
    "No content restrictions are applied to request.\n",
    "Reference: https://pushshift.io/api-parameters/\n",
    "'''\n",
    "def get_titles(subreddit, postcount, endtime):\n",
    "    df_list = []\n",
    "    current_time = endtime #Sat Night / Sunday AM @ Midnight 4/19\n",
    "    base_url = 'https://api.pushshift.io/reddit/search/submission/'\n",
    "    for _ in range(int(postcount/100)):\n",
    "        res = requests.get(\n",
    "            base_url,\n",
    "            params={\n",
    "                'subreddit': subreddit,\n",
    "                'size': 100,\n",
    "                'lang': True,\n",
    "                'before': current_time,\n",
    "                'num_crossposts': 0, \n",
    "                'mod_removed' : True\n",
    "            }\n",
    "        )\n",
    "        df = pd.DataFrame(res.json()['data'])\n",
    "        df = df.loc[:, ['created_utc', 'title', 'selftext', 'domain',\n",
    "                        'id', 'num_comments', 'pinned', 'subreddit']]\n",
    "        df_list.append(df)\n",
    "        current_time = df.created_utc.min() # update ref time to avoid duplicates\n",
    "        time.sleep(6) # Avoid triggering IP block\n",
    "        print(_)\n",
    "    return pd.concat(df_list, axis=0)"
   ]
  },
  {
   "cell_type": "code",
   "execution_count": 4,
   "metadata": {},
   "outputs": [],
   "source": [
    "df_dodgers = get_titles('Dodgers', 22_000, 1595441627)"
   ]
  },
  {
   "cell_type": "code",
   "execution_count": 34,
   "metadata": {},
   "outputs": [],
   "source": [
    "df_dodgers.to_csv('../data/dodgerposts.csv', index = False)"
   ]
  },
  {
   "cell_type": "code",
   "execution_count": 31,
   "metadata": {},
   "outputs": [
    {
     "name": "stdout",
     "output_type": "stream",
     "text": [
      "0\n",
      "1\n",
      "2\n",
      "3\n",
      "4\n",
      "5\n",
      "6\n",
      "7\n",
      "8\n",
      "9\n",
      "10\n",
      "11\n",
      "12\n",
      "13\n",
      "14\n",
      "15\n",
      "16\n",
      "17\n",
      "18\n",
      "19\n",
      "20\n",
      "21\n",
      "22\n",
      "23\n",
      "24\n",
      "25\n",
      "26\n",
      "27\n",
      "28\n",
      "29\n",
      "30\n",
      "31\n",
      "32\n",
      "33\n",
      "34\n",
      "35\n",
      "36\n",
      "37\n",
      "38\n",
      "39\n",
      "40\n",
      "41\n",
      "42\n",
      "43\n",
      "44\n",
      "45\n",
      "46\n",
      "47\n",
      "48\n",
      "49\n",
      "50\n",
      "51\n",
      "52\n",
      "53\n",
      "54\n",
      "55\n",
      "56\n",
      "57\n",
      "58\n",
      "59\n",
      "60\n",
      "61\n"
     ]
    }
   ],
   "source": [
    "df_yankees = get_titles('NYYankees', 6_200, 1595441627)"
   ]
  },
  {
   "cell_type": "code",
   "execution_count": 33,
   "metadata": {},
   "outputs": [],
   "source": [
    "df_yankees.to_csv('../data/yankeeposts.csv', index = False)"
   ]
  },
  {
   "cell_type": "code",
   "execution_count": null,
   "metadata": {},
   "outputs": [],
   "source": []
  }
 ],
 "metadata": {
  "kernelspec": {
   "display_name": "Python 3",
   "language": "python",
   "name": "python3"
  },
  "language_info": {
   "codemirror_mode": {
    "name": "ipython",
    "version": 3
   },
   "file_extension": ".py",
   "mimetype": "text/x-python",
   "name": "python",
   "nbconvert_exporter": "python",
   "pygments_lexer": "ipython3",
   "version": "3.7.6"
  }
 },
 "nbformat": 4,
 "nbformat_minor": 4
}
